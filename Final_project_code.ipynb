{
 "cells": [
  {
   "cell_type": "code",
   "execution_count": 21,
   "metadata": {},
   "outputs": [],
   "source": [
    "import pandas as pd\n",
    "import numpy as np\n",
    "\n",
    "import matplotlib.pyplot as plt \n",
    "import geopandas\n",
    "import seaborn as sns\n",
    "\n",
    "from sklearn.impute import SimpleImputer\n",
    "import datetime\n",
    "\n",
    "import os\n",
    "\n",
    "import plotly.express as px\n",
    "import pycountry\n",
    "\n",
    "import matplotlib.colors as cls\n",
    "\n",
    "import sys, os\n",
    "\n",
    "df1 = pd.read_csv('./datasets/1970-2021_DISASTERS.xlsx - emdat data.csv')\n",
    "df1=df1.drop(columns=['Seq','Glide','Disaster Group', 'OFDA Response', 'Appeal', 'Declaration', 'Aid Contribution', \n",
    "                    'Associated Dis', 'Associated Dis2', 'Dis Mag Value', 'Dis Mag Scale',\n",
    "                     'Insured Damages (\\'000 US$)', 'Adm Level', 'Admin1 Code', 'Admin2 Code', 'Event Name'])\n",
    "\n",
    "df2= pd.read_csv('./datasets/1900_2021_DISASTERS.xlsx - emdat data.csv')\n",
    "df2=df2.drop(columns=['Seq','Glide','Disaster Group', 'OFDA Response', 'Appeal', 'Declaration', 'Aid Contribution', \n",
    "                    'Associated Dis', 'Associated Dis2', 'Dis Mag Value', 'Dis Mag Scale',\n",
    "                     'Insured Damages (\\'000 US$)', 'Adm Level', 'Admin1 Code', 'Admin2 Code', 'Event Name'])\n",
    "\n",
    "df2 = df2[~(df2['Disaster Type'].isin([\"Insect infestation\", \"Animal accident\",\"Impact\",\"Glacial lake outburst\",\"Fog\",\"Mass movement (dry)\"]))]\n",
    "\n",
    "gdp_df = pd.read_csv('./datasets/gdp_per_capita.csv')"
   ]
  },
  {
   "cell_type": "code",
   "execution_count": 24,
   "metadata": {},
   "outputs": [
    {
     "ename": "SyntaxError",
     "evalue": "invalid syntax (<ipython-input-24-27d5b09267ae>, line 1)",
     "output_type": "error",
     "traceback": [
      "\u001b[0;36m  File \u001b[0;32m\"<ipython-input-24-27d5b09267ae>\"\u001b[0;36m, line \u001b[0;32m1\u001b[0m\n\u001b[0;31m    import .code.major_disaster_analysis\u001b[0m\n\u001b[0m           ^\u001b[0m\n\u001b[0;31mSyntaxError\u001b[0m\u001b[0;31m:\u001b[0m invalid syntax\n"
     ]
    }
   ],
   "source": [
    "sys.path.extend([f'./{code}' for co in os.listdir(\".\") if os.path.isdir(name)])\n"
   ]
  },
  {
   "cell_type": "code",
   "execution_count": null,
   "metadata": {},
   "outputs": [],
   "source": [
    "#3 types of disasters count \n",
    "func1()"
   ]
  },
  {
   "cell_type": "code",
   "execution_count": null,
   "metadata": {},
   "outputs": [],
   "source": [
    "#4 natural disasters stacked over the past decade (df2)"
   ]
  },
  {
   "cell_type": "code",
   "execution_count": null,
   "metadata": {},
   "outputs": [],
   "source": [
    "#5 deaths caused by the disasters over the past decade stacked(df2)"
   ]
  },
  {
   "cell_type": "code",
   "execution_count": null,
   "metadata": {},
   "outputs": [],
   "source": [
    "#6 bubble chart (df2)"
   ]
  },
  {
   "cell_type": "code",
   "execution_count": null,
   "metadata": {},
   "outputs": [],
   "source": [
    "#7 disasters stacked over the past 50 years (df1)"
   ]
  },
  {
   "cell_type": "code",
   "execution_count": null,
   "metadata": {},
   "outputs": [],
   "source": [
    "#8 deaths stacked over the past 50 years (df1)"
   ]
  },
  {
   "cell_type": "code",
   "execution_count": null,
   "metadata": {},
   "outputs": [],
   "source": [
    "#9 gdp vs deaths for each country (deaths>5000) (df1, gdpdf)"
   ]
  },
  {
   "cell_type": "code",
   "execution_count": null,
   "metadata": {},
   "outputs": [],
   "source": [
    "#10 heatmap of the disasters with more than 5000 deaths (df1)"
   ]
  },
  {
   "cell_type": "code",
   "execution_count": null,
   "metadata": {},
   "outputs": [],
   "source": [
    "#11 total damages stacked over the past 50 years (df1)"
   ]
  },
  {
   "cell_type": "code",
   "execution_count": null,
   "metadata": {},
   "outputs": [],
   "source": [
    "#12 pie charts of occurrences vs deaths vs the damages (df1)"
   ]
  },
  {
   "cell_type": "code",
   "execution_count": null,
   "metadata": {},
   "outputs": [],
   "source": [
    "#13 correlation between news vs total disasters and total deaths (df1, newsdf)"
   ]
  },
  {
   "cell_type": "code",
   "execution_count": null,
   "metadata": {},
   "outputs": [],
   "source": [
    "#14 number of mentions of the disasters in the climate change news (df1, newsdf)"
   ]
  }
 ],
 "metadata": {
  "kernelspec": {
   "display_name": "Python 3",
   "language": "python",
   "name": "python3"
  },
  "language_info": {
   "codemirror_mode": {
    "name": "ipython",
    "version": 3
   },
   "file_extension": ".py",
   "mimetype": "text/x-python",
   "name": "python",
   "nbconvert_exporter": "python",
   "pygments_lexer": "ipython3",
   "version": "3.7.4"
  }
 },
 "nbformat": 4,
 "nbformat_minor": 5
}
