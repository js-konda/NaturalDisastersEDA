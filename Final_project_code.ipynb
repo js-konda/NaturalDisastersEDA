{
 "cells": [
  {
   "cell_type": "code",
   "execution_count": 1,
   "id": "da2a7d52",
   "metadata": {},
   "outputs": [
    {
     "ename": "ModuleNotFoundError",
     "evalue": "No module named 'geopandas'",
     "output_type": "error",
     "traceback": [
      "\u001b[0;31m---------------------------------------------------------------------------\u001b[0m",
      "\u001b[0;31mModuleNotFoundError\u001b[0m                       Traceback (most recent call last)",
      "\u001b[0;32m<ipython-input-1-1fe557a65bc3>\u001b[0m in \u001b[0;36m<module>\u001b[0;34m\u001b[0m\n\u001b[1;32m      3\u001b[0m \u001b[0;34m\u001b[0m\u001b[0m\n\u001b[1;32m      4\u001b[0m \u001b[0;32mimport\u001b[0m \u001b[0mmatplotlib\u001b[0m\u001b[0;34m.\u001b[0m\u001b[0mpyplot\u001b[0m \u001b[0;32mas\u001b[0m \u001b[0mplt\u001b[0m\u001b[0;34m\u001b[0m\u001b[0;34m\u001b[0m\u001b[0m\n\u001b[0;32m----> 5\u001b[0;31m \u001b[0;32mimport\u001b[0m \u001b[0mgeopandas\u001b[0m\u001b[0;34m\u001b[0m\u001b[0;34m\u001b[0m\u001b[0m\n\u001b[0m\u001b[1;32m      6\u001b[0m \u001b[0;32mimport\u001b[0m \u001b[0mseaborn\u001b[0m \u001b[0;32mas\u001b[0m \u001b[0msns\u001b[0m\u001b[0;34m\u001b[0m\u001b[0;34m\u001b[0m\u001b[0m\n\u001b[1;32m      7\u001b[0m \u001b[0;34m\u001b[0m\u001b[0m\n",
      "\u001b[0;31mModuleNotFoundError\u001b[0m: No module named 'geopandas'"
     ]
    }
   ],
   "source": [
    "import pandas as pd\n",
    "import numpy as np\n",
    "\n",
    "import matplotlib.pyplot as plt \n",
    "import geopandas\n",
    "import seaborn as sns\n",
    "\n",
    "from sklearn.impute import SimpleImputer\n",
    "import datetime\n",
    "\n",
    "import os\n",
    "\n",
    "import plotly.express as px\n",
    "import pycountry\n",
    "\n",
    "import matplotlib.colors as cls\n",
    "\n",
    "df1 = pd.read_csv('../datasets/1970-2021_DISASTERS.xlsx - emdat data.csv')\n",
    "df=df.drop(columns=['Seq','Glide','Disaster Group', 'OFDA Response', 'Appeal', 'Declaration', 'Aid Contribution', \n",
    "                    'Associated Dis', 'Associated Dis2', 'Dis Mag Value', 'Dis Mag Scale',\n",
    "                     'Insured Damages (\\'000 US$)', 'Adm Level', 'Admin1 Code', 'Admin2 Code', 'Event Name'])\n",
    "\n",
    "df2= pd.read_csv('../datasets/1900_2021_DISASTERS.xlsx - emdat data.csv')\n",
    "df2=df2.drop(columns=['Seq','Glide','Disaster Group', 'OFDA Response', 'Appeal', 'Declaration', 'Aid Contribution', \n",
    "                    'Associated Dis', 'Associated Dis2', 'Dis Mag Value', 'Dis Mag Scale',\n",
    "                     'Insured Damages (\\'000 US$)', 'Adm Level', 'Admin1 Code', 'Admin2 Code', 'Event Name'])\n",
    "\n",
    "df2 = df2[~(df2['Disaster Type'].isin([\"Insect infestation\", \"Animal accident\",\"Impact\",\"Glacial lake outburst\",\"Fog\",\"Mass movement (dry)\"]))]"
   ]
  },
  {
   "cell_type": "code",
   "execution_count": null,
   "id": "8d0606f2",
   "metadata": {},
   "outputs": [],
   "source": [
    "#3 types of disasters count \n",
    "func1()"
   ]
  },
  {
   "cell_type": "code",
   "execution_count": null,
   "id": "19903e0b",
   "metadata": {},
   "outputs": [],
   "source": [
    "#4 natural disasters stacked over the past decade (df2)"
   ]
  },
  {
   "cell_type": "code",
   "execution_count": null,
   "id": "8933e286",
   "metadata": {},
   "outputs": [],
   "source": [
    "#5 deaths caused by the disasters over the past decade stacked(df2)"
   ]
  },
  {
   "cell_type": "code",
   "execution_count": null,
   "id": "cbc4618a",
   "metadata": {},
   "outputs": [],
   "source": [
    "#6 bubble chart (df2)"
   ]
  },
  {
   "cell_type": "code",
   "execution_count": null,
   "id": "e02f7cd5",
   "metadata": {},
   "outputs": [],
   "source": [
    "#7 disasters stacked over the past 50 years (df1)"
   ]
  },
  {
   "cell_type": "code",
   "execution_count": null,
   "id": "3e3120ce",
   "metadata": {},
   "outputs": [],
   "source": [
    "#8 deaths stacked over the past 50 years (df1)"
   ]
  },
  {
   "cell_type": "code",
   "execution_count": null,
   "id": "1a8256c5",
   "metadata": {},
   "outputs": [],
   "source": [
    "#9 gdp vs deaths for each country (deaths>5000) (df1, gdpdf)"
   ]
  },
  {
   "cell_type": "code",
   "execution_count": null,
   "id": "248c2c71",
   "metadata": {},
   "outputs": [],
   "source": [
    "#10 heatmap of the disasters with more than 5000 deaths (df1)"
   ]
  },
  {
   "cell_type": "code",
   "execution_count": null,
   "id": "bdd23efb",
   "metadata": {},
   "outputs": [],
   "source": [
    "#11 total damages stacked over the past 50 years (df1)"
   ]
  },
  {
   "cell_type": "code",
   "execution_count": null,
   "id": "3dfe8971",
   "metadata": {},
   "outputs": [],
   "source": [
    "#12 pie charts of occurrences vs deaths vs the damages (df1)"
   ]
  },
  {
   "cell_type": "code",
   "execution_count": null,
   "id": "cab8df0e",
   "metadata": {},
   "outputs": [],
   "source": [
    "#13 correlation between news vs total disasters and total deaths (df1, newsdf)"
   ]
  },
  {
   "cell_type": "code",
   "execution_count": null,
   "id": "9fea1f71",
   "metadata": {},
   "outputs": [],
   "source": [
    "#14 number of mentions of the disasters in the climate change news (df1, newsdf)"
   ]
  }
 ],
 "metadata": {
  "kernelspec": {
   "display_name": "Python 3",
   "language": "python",
   "name": "python3"
  },
  "language_info": {
   "codemirror_mode": {
    "name": "ipython",
    "version": 3
   },
   "file_extension": ".py",
   "mimetype": "text/x-python",
   "name": "python",
   "nbconvert_exporter": "python",
   "pygments_lexer": "ipython3",
   "version": "3.8.8"
  }
 },
 "nbformat": 4,
 "nbformat_minor": 5
}
